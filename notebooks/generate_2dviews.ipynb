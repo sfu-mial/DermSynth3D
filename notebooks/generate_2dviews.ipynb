{
 "cells": [
  {
   "cell_type": "code",
   "execution_count": 1,
   "metadata": {},
   "outputs": [],
   "source": [
    "%load_ext autoreload\n",
    "%autoreload 2\n",
    "%matplotlib inline\n",
    "import os\n",
    "import sys\n",
    "import numpy as np\n",
    "import matplotlib.pyplot as plt\n",
    "import torch\n",
    "import pandas as pd"
   ]
  },
  {
   "cell_type": "code",
   "execution_count": 2,
   "metadata": {},
   "outputs": [],
   "source": [
    "sys.path.insert(\n",
    "    0, os.path.abspath(os.path.join(os.getcwd(), \"../../DermSynth3D_private\"))\n",
    ")\n",
    "sys.path.insert(0, os.path.abspath(os.path.join(os.getcwd(), \"../skin3d\")))\n",
    "\n",
    "from dermsynth3d.datasets.datasets import (\n",
    "    Fitz17KAnnotations,  # ?\n",
    "    Background2d,\n",
    ")\n",
    "from dermsynth3d.datasets.synth_dataset import (\n",
    "    SynthesizeDataset,\n",
    ")\n",
    "from dermsynth3d.utils.filestruct import custom_directories\n",
    "from dermsynth3d.tools.generate2d import Generate2DHelper\n",
    "from dermsynth3d.utils.colorconstancy import shade_of_gray_cc"
   ]
  },
  {
   "cell_type": "code",
   "execution_count": 3,
   "metadata": {},
   "outputs": [],
   "source": [
    "from skin3d.bodytex import BodyTexDataset"
   ]
  },
  {
   "cell_type": "code",
   "execution_count": 4,
   "metadata": {},
   "outputs": [],
   "source": [
    "# Setup\n",
    "if torch.cuda.is_available():\n",
    "    device = torch.device(\"cuda:0\")\n",
    "    torch.cuda.set_device(device)\n",
    "else:\n",
    "    device = torch.device(\"cpu\")"
   ]
  },
  {
   "cell_type": "code",
   "execution_count": 5,
   "metadata": {},
   "outputs": [
    {
     "name": "stdout",
     "output_type": "stream",
     "text": [
      "/mnt/d/data/archive/House_Room_Dataset/Bedroom/\n",
      "/mnt/d/data/3dbodytex-1.1-highres/3dbodytex-1.1-highres/\n",
      "/mnt/d/data/3dbodytex-1.1-highres/3DBodyTex_nonskinfaces/3DBodyTex_nonskinfaces\n",
      "/mnt/d/data/bodytex/bodytex_anatomy/bodytex_anatomy_labels\n",
      "/mnt/d/data/fitzpatrick17k/data/finalfitz17k\n",
      "/mnt/d/data/fitzpatrick17k/annotations/annotations-20220429T234131Z-001/annotations\n"
     ]
    }
   ],
   "source": [
    "my_folders = custom_directories(\"jer\")\n",
    "# my_folders = custom_directories(\"arezou\")\n",
    "# my_folders = custom_directories(\"ashish\")\n",
    "print(my_folders)"
   ]
  },
  {
   "cell_type": "code",
   "execution_count": 6,
   "metadata": {},
   "outputs": [],
   "source": [
    "# File path of the bodytex CSV.\n",
    "bodytex_csv = \"../skin3d/data/3dbodytex-1.1-highres/bodytex.csv\"\n",
    "bodytex_df = pd.read_csv(bodytex_csv, converters={\"scan_id\": lambda x: str(x)})\n",
    "bodytex = BodyTexDataset(\n",
    "    df=bodytex_df,\n",
    "    dir_textures=my_folders.bodytex_highres(),\n",
    "    dir_annotate=\"../skin3d/data/3dbodytex-1.1-highres/annotations/\",\n",
    ")"
   ]
  },
  {
   "cell_type": "code",
   "execution_count": 7,
   "metadata": {},
   "outputs": [],
   "source": [
    "# Extension of the texture image. Use the extension from `paste_lesions.ipynb`\n",
    "TEXTURE_EXTENSION = \"tester\"\n",
    "# True to use the blended lesions, False to use the pasted lesions.\n",
    "is_blend = True\n",
    "\n",
    "# Create a 2D dataset based on rendered views of the 3d model.\n",
    "# Specify the directories where to save the images and masks.\n",
    "# You'll want to change this directory for your experiments.\n",
    "# This will create a new directory if it does not exist.\n",
    "SYNTH_DIR_NAME = \"tester\"\n",
    "dir_synth_data = os.path.join(\"/mnt/d/data/synth/\", SYNTH_DIR_NAME)\n",
    "synth_ds = SynthesizeDataset(dir_synth_data)"
   ]
  },
  {
   "cell_type": "code",
   "execution_count": 8,
   "metadata": {},
   "outputs": [],
   "source": [
    "# background_ds = Background2d(\n",
    "#     dir_images=my_folders.backgrounds(),\n",
    "#     )\n",
    "\n",
    "dir_background_images = \"/mnt/d/data/backgrounds/IndoorScene1/IndoorScene1\"\n",
    "background_ds = Background2d(\n",
    "    dir_images=dir_background_images,\n",
    "    image_filenames=None,\n",
    ")"
   ]
  },
  {
   "cell_type": "code",
   "execution_count": 9,
   "metadata": {},
   "outputs": [
    {
     "name": "stdout",
     "output_type": "stream",
     "text": [
      "/mnt/d/data/3dbodytex-1.1-highres/3DBodyTex_nonskinfaces/3DBodyTex_nonskinfaces\n"
     ]
    },
    {
     "data": {
      "text/plain": [
       "129"
      ]
     },
     "execution_count": 9,
     "metadata": {},
     "output_type": "execute_result"
    }
   ],
   "source": [
    "print(my_folders.new_textures())\n",
    "subject_ids = sorted(os.listdir(my_folders.new_textures()))\n",
    "len(subject_ids)"
   ]
  },
  {
   "cell_type": "code",
   "execution_count": null,
   "metadata": {},
   "outputs": [],
   "source": [
    "subject_ids = [\"221-m-u\"]\n",
    "# subject_ids = ['370-m-a', '371-m-scape015', '382-m-a', '386-m-a', '395-m-scape070']\n",
    "for subject_id in subject_ids:\n",
    "    print(\"===== WORKING ON {}\".format(subject_id))\n",
    "    scan_id = subject_id[:3]\n",
    "    nevi_exists = os.path.exists(bodytex.annotation_filepath(scan_id))\n",
    "    if not nevi_exists:\n",
    "        # raise ValueError(\"Missing bodytex annotations.\")\n",
    "        print(\"missing bodytex annotations: {}\".format(subject_id))\n",
    "        continue\n",
    "\n",
    "    mesh_filename = os.path.join(\n",
    "        my_folders.bodytex_highres(), subject_id, \"model_highres_0_normalized.obj\"\n",
    "    )\n",
    "\n",
    "    # This will load the meshes and necessary files.\n",
    "    # Assumes you already have the blended textured for this mesh.\n",
    "    # Or set `is_blended=False` to use the pasted lesions.\n",
    "    # print(\"===== Loading mesh\")\n",
    "    gen2d = Generate2DHelper(\n",
    "        mesh_filename=mesh_filename,\n",
    "        dir_blended_textures=my_folders.new_textures(),\n",
    "        dir_anatomy=my_folders.anatomy(),\n",
    "        fitz_ds=None,  # fitz_ds,\n",
    "        background_ds=background_ds,\n",
    "        device=device,\n",
    "        debug=True,\n",
    "        bodytex=bodytex,\n",
    "        blended_file_ext=TEXTURE_EXTENSION,\n",
    "        config=None,\n",
    "        is_blended=is_blend,\n",
    "    )\n",
    "\n",
    "    n_imgs = 10  # Total number of 2D images to save to disk.\n",
    "    img_count = 0  # Counts the number of images saved to disk.\n",
    "    gen2d.debug = True  # Turn on/off the printing of debug messages.\n",
    "    while img_count < n_imgs:  # While loop to keep rendering until `n_imgs` are saved.\n",
    "        view_size = (512, 512)  # Image size of rendered view.\n",
    "        success = gen2d.randomize_parameters(\n",
    "            view_size=view_size,\n",
    "            config=None,\n",
    "            sample_mode=\"sample_surface\",\n",
    "            # surface_offset_bounds = (0.1, 1.0),\n",
    "            background_blur_radius_bounds=(0, 0),\n",
    "        )\n",
    "        if (\n",
    "            not success\n",
    "        ):  # Checks if the camera/lighting placement works for the random params.\n",
    "            print(\"***Camera and lighting placement not successful. Skipping\")\n",
    "            continue\n",
    "\n",
    "        # Option to paste the lesion.\n",
    "        paste_img, target = gen2d.render_image_and_target(\n",
    "            paste_lesion=False,\n",
    "            min_fraction_lesion=0.0,\n",
    "        )\n",
    "        if paste_img is None:  # Checks if enough skin is visible.\n",
    "            print(\"***Not enough skin, lesion, or unable to paste lesion. Skipping.\")\n",
    "            continue\n",
    "\n",
    "        target_name = synth_ds.generate_target_name()\n",
    "        # print(target_name)\n",
    "        # Save image and masks to disk.\n",
    "        synth_ds.save_image(target_name, (paste_img * 255).astype(np.uint8))\n",
    "        synth_ds.save_target(target_name, target)\n",
    "\n",
    "        # Keep track of the parameters used to generate the image.\n",
    "        params = {\n",
    "            \"file_id\": target_name,\n",
    "        }\n",
    "        params.update(gen2d.get_params())\n",
    "        synth_ds.update_params(params)\n",
    "        img_count += 1  # Increment counter.\n",
    "        print(img_count)\n",
    "\n",
    "    # Save the params to disk (make sure you do this outside the while loop)\n",
    "    print(\"===== Saving parameters ...\")\n",
    "    synth_ds.save_params()"
   ]
  },
  {
   "cell_type": "code",
   "execution_count": null,
   "metadata": {},
   "outputs": [],
   "source": []
  }
 ],
 "metadata": {
  "kernelspec": {
   "display_name": "Python 3.8.12 ('pytorch3dv2')",
   "language": "python",
   "name": "python3"
  },
  "language_info": {
   "codemirror_mode": {
    "name": "ipython",
    "version": 3
   },
   "file_extension": ".py",
   "mimetype": "text/x-python",
   "name": "python",
   "nbconvert_exporter": "python",
   "pygments_lexer": "ipython3",
   "version": "3.8.12"
  },
  "orig_nbformat": 4,
  "vscode": {
   "interpreter": {
    "hash": "6448a6cebda3065c9193e50ff51184523b72f29008470b17ce3f21a1918c09fd"
   }
  }
 },
 "nbformat": 4,
 "nbformat_minor": 2
}
