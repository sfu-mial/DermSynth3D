{
 "cells": [
  {
   "cell_type": "code",
   "execution_count": 18,
   "metadata": {},
   "outputs": [
    {
     "name": "stdout",
     "output_type": "stream",
     "text": [
      "The autoreload extension is already loaded. To reload it, use:\n",
      "  %reload_ext autoreload\n"
     ]
    }
   ],
   "source": [
    "%load_ext autoreload\n",
    "%autoreload 2\n",
    "%matplotlib inline\n",
    "import os\n",
    "import sys\n",
    "import numpy as np\n",
    "import torch\n",
    "from torch.utils.data import DataLoader\n",
    "import albumentations as A\n",
    "from albumentations.pytorch import ToTensorV2\n",
    "import cv2\n",
    "import pandas as pd\n",
    "import matplotlib.pyplot as plt"
   ]
  },
  {
   "cell_type": "code",
   "execution_count": 19,
   "metadata": {},
   "outputs": [],
   "source": [
    "sys.path.insert(\n",
    "    0, os.path.abspath(os.path.join(os.getcwd(), \"../../DermSynth3D_private\"))\n",
    ")\n",
    "from dermsynth3d.models.model import SkinDeepLabV3\n",
    "from dermsynth3d.datasets.datasets import (\n",
    "    Fitz17KAnnotations,\n",
    "    ImageDataset,\n",
    "    Ph2Dataset,\n",
    ")\n",
    "from dermsynth3d.utils.colorconstancy import shade_of_gray_cc\n",
    "from dermsynth3d.models.inference import inference_multitask\n",
    "from dermsynth3d.utils.evaluate import (\n",
    "    compute_results,\n",
    "    conf_mat_cells,\n",
    ")"
   ]
  },
  {
   "cell_type": "code",
   "execution_count": 20,
   "metadata": {},
   "outputs": [],
   "source": [
    "device = torch.device(\"cuda:0\" if torch.cuda.is_available() else \"cpu\")"
   ]
  },
  {
   "cell_type": "code",
   "execution_count": 22,
   "metadata": {},
   "outputs": [],
   "source": [
    "model_name = \"dataset960\"\n",
    "model_name = \"may_18_2022_320x320_deeplab_paper\"\n",
    "model_name = \"synth_221-m-u_indoor\"\n",
    "dir_models = \"/mnt/d/models/image3d/\""
   ]
  },
  {
   "cell_type": "code",
   "execution_count": 23,
   "metadata": {},
   "outputs": [
    {
     "data": {
      "text/plain": [
       "<All keys matched successfully>"
      ]
     },
     "execution_count": 23,
     "metadata": {},
     "output_type": "execute_result"
    }
   ],
   "source": [
    "# model_path = '/mnt/d/models/image3d/dataset3500'\n",
    "# model_path = '/mnt/d/models/image3d/may_18_2022_320x320_deeplab_paper'\n",
    "# model_path = '/mnt/d/models/image3d/dataset960'\n",
    "# model_path = '/mnt/d/models/image3d/synth_221-m-u_indoor'\n",
    "model_path = os.path.join(dir_models, model_name)\n",
    "\n",
    "multitask_model = SkinDeepLabV3(multi_head=False, freeze_backbone=False)\n",
    "multitask_model.load_state_dict(torch.load(model_path), strict=False)"
   ]
  },
  {
   "cell_type": "code",
   "execution_count": 24,
   "metadata": {},
   "outputs": [],
   "source": [
    "multitask_model = multitask_model.to(device)\n",
    "multitask_model.eval();"
   ]
  },
  {
   "cell_type": "code",
   "execution_count": 25,
   "metadata": {},
   "outputs": [],
   "source": [
    "img_size = (320, 320)"
   ]
  },
  {
   "cell_type": "code",
   "execution_count": 26,
   "metadata": {},
   "outputs": [],
   "source": [
    "# Assumes the model was pretrained using these values.\n",
    "preprocess_input = A.Normalize(mean=(0.485, 0.456, 0.406), std=(0.229, 0.224, 0.225))\n",
    "img_preprocess = A.Compose(\n",
    "    [\n",
    "        preprocess_input,\n",
    "    ]\n",
    ")\n",
    "\n",
    "# To force a resize of the input image.\n",
    "resize_func = A.Resize(\n",
    "    height=img_size[0], width=img_size[1], interpolation=cv2.INTER_CUBIC\n",
    ")\n",
    "# Perform spatial augmentation on both the image and mask.\n",
    "spatial_augment = A.Compose(\n",
    "    [\n",
    "        resize_func,\n",
    "    ]\n",
    ")\n",
    "resize_aspect_smallest = A.augmentations.geometric.resize.SmallestMaxSize(\n",
    "    max_size=img_size[0], always_apply=True\n",
    ")"
   ]
  },
  {
   "cell_type": "code",
   "execution_count": 8,
   "metadata": {},
   "outputs": [],
   "source": [
    "dir_wounds = \"../../../wound-segmentation/data/Foot Ulcer Segmentation Challenge\"\n",
    "dir_wounds_train = os.path.join(dir_wounds, \"validation\")\n",
    "dir_wounds_train_images = os.path.join(dir_wounds_train, \"images\")\n",
    "dir_wounds_train_targets = os.path.join(dir_wounds_train, \"labels\")\n",
    "dir_pred_wounds = \"/mnt/d/predictions/wounds/deeplab_256_fivech4\"\n",
    "wound_ds = ImageDataset(\n",
    "    dir_wounds_train_images,\n",
    "    dir_wounds_train_targets,\n",
    "    dir_predictions=dir_pred_wounds,\n",
    "    image_extension=\".png\",\n",
    "    target_extension=\".png\",\n",
    "    spatial_transform=resize_aspect_smallest,\n",
    "    image_augment=None,\n",
    "    image_preprocess=img_preprocess,\n",
    "    totensor=ToTensorV2(transpose_mask=True),\n",
    "    color_constancy=shade_of_gray_cc,\n",
    ")"
   ]
  },
  {
   "cell_type": "code",
   "execution_count": 9,
   "metadata": {},
   "outputs": [
    {
     "data": {
      "text/plain": [
       "200"
      ]
     },
     "execution_count": 9,
     "metadata": {},
     "output_type": "execute_result"
    }
   ],
   "source": [
    "wounds_dataloader = DataLoader(wound_ds, batch_size=1, shuffle=False)\n",
    "len(wounds_dataloader)"
   ]
  },
  {
   "cell_type": "code",
   "execution_count": 10,
   "metadata": {},
   "outputs": [],
   "source": [
    "def jaccard_index(pred, gt):\n",
    "    intersection = np.sum(pred & gt)\n",
    "    union = np.sum(pred | gt)\n",
    "\n",
    "    if gt.sum() == 0:\n",
    "        if pred.sum() == 0:\n",
    "            return 1\n",
    "        else:\n",
    "            return 0\n",
    "    return intersection / union"
   ]
  },
  {
   "cell_type": "code",
   "execution_count": 11,
   "metadata": {},
   "outputs": [
    {
     "data": {
      "application/vnd.jupyter.widget-view+json": {
       "model_id": "fdcad1a3e5004b0e980edb72a09183e4",
       "version_major": 2,
       "version_minor": 0
      },
      "text/plain": [
       "  0%|          | 0/200 [00:00<?, ?it/s]"
      ]
     },
     "metadata": {},
     "output_type": "display_data"
    }
   ],
   "source": [
    "dir_skin_preds_wounds = \"/mnt/d/data/wounds/valid/preds\"\n",
    "fitz_test = inference_multitask(\n",
    "    max_imgs=len(wounds_dataloader),\n",
    "    model=multitask_model,\n",
    "    dataloader=wounds_dataloader,\n",
    "    device=device,\n",
    "    save_to_disk=True,\n",
    "    return_values=True,\n",
    "    dir_anatomy_preds=\"/mnt/d/data/wounds/valid/anatomy\",\n",
    "    dir_save_images=\"/mnt/d/data/wounds/valid/images\",\n",
    "    # dir_save_targets='/mnt/d/data/fitzpatrick17k/annotations/test/figs/targets',\n",
    "    dir_save_skin_preds=dir_skin_preds_wounds,\n",
    ")"
   ]
  },
  {
   "cell_type": "code",
   "execution_count": 12,
   "metadata": {},
   "outputs": [
    {
     "name": "stdout",
     "output_type": "stream",
     "text": [
      "0.27 \\pm 0.20\n"
     ]
    }
   ],
   "source": [
    "wounds_df = pd.DataFrame(\n",
    "    compute_results(wound_ds, dir_skin_preds_wounds, pred_ext=\".png\")\n",
    ")\n",
    "# Skin condition.\n",
    "print(\n",
    "    \"{:.2f} \\pm {:.2f}\".format(\n",
    "        wounds_df.lesion_ji.mean(),\n",
    "        wounds_df.lesion_ji.std(),\n",
    "    )\n",
    ")"
   ]
  },
  {
   "cell_type": "markdown",
   "metadata": {},
   "source": [
    "<h2>Fitzpatrick 17k test annotations</h2>\n",
    "\n",
    "https://github.com/mattgroh/fitzpatrick17k\n",
    "\n",
    "See instructions to download the images.\n",
    "\n",
    "Update `dir_fitz_images` to the directory containing the fitzpatrick17k images.\n",
    "\n",
    "Update `dir_fitz_test_annotations` to the subset of masks provided."
   ]
  },
  {
   "cell_type": "code",
   "execution_count": 27,
   "metadata": {},
   "outputs": [
    {
     "data": {
      "text/plain": [
       "25"
      ]
     },
     "execution_count": 27,
     "metadata": {},
     "output_type": "execute_result"
    }
   ],
   "source": [
    "# Where the fitzpatrick images are stored.\n",
    "dir_fitz_images = \"/mnt/d/data/fitzpatrick17k/data/finalfitz17k\"\n",
    "# Where the manual annotations are stored.\n",
    "dir_fitz_test_annotations = \"/mnt/d/data/fitzpatrick17k/annotations/annotations-20220516T041017Z-001/annotations\"\n",
    "# dir_fitz_test_predictions = '/mnt/d/data/fitzpatrick17k/annotations/annotations-20220516T041017Z-001/figs/skin'\n",
    "fitz_test_ds = Fitz17KAnnotations(\n",
    "    dir_images=dir_fitz_images,\n",
    "    dir_targets=dir_fitz_test_annotations,\n",
    "    image_extension=\".jpg\",\n",
    "    target_extension=\".png\",\n",
    "    spatial_transform=resize_aspect_smallest,\n",
    "    image_augment=None,\n",
    "    image_preprocess=img_preprocess,\n",
    "    totensor=ToTensorV2(transpose_mask=True),\n",
    "    color_constancy=shade_of_gray_cc,\n",
    ")\n",
    "fitz_test_dataloader = DataLoader(fitz_test_ds, batch_size=1, shuffle=False)\n",
    "len(fitz_test_dataloader)"
   ]
  },
  {
   "cell_type": "code",
   "execution_count": 28,
   "metadata": {},
   "outputs": [],
   "source": [
    "def evaluate_directories(dir_root: str, model_name: str):\n",
    "    paths = {}\n",
    "    paths[\"prob_segs\"] = os.path.join(dir_root, model_name, \"prob_segs\")\n",
    "    paths[\"pred_segs\"] = os.path.join(dir_root, model_name, \"pred_segs\")\n",
    "    paths[\"pred_anatomy\"] = os.path.join(dir_root, model_name, \"pred_anatomy\")\n",
    "    paths[\"images\"] = os.path.join(dir_root, model_name, \"images\")\n",
    "    paths[\"targets\"] = os.path.join(dir_root, model_name, \"targets\")\n",
    "\n",
    "    for key in paths:\n",
    "        if not os.path.isdir(paths[key]):\n",
    "            os.makedirs(paths[key])\n",
    "\n",
    "    return paths"
   ]
  },
  {
   "cell_type": "code",
   "execution_count": 29,
   "metadata": {},
   "outputs": [],
   "source": [
    "dir_fitz_evaluate = \"/mnt/d/data/fitzpatrick17k/evaluate\"\n",
    "fitz_paths = evaluate_directories(dir_root=dir_fitz_evaluate, model_name=model_name)"
   ]
  },
  {
   "cell_type": "code",
   "execution_count": 30,
   "metadata": {},
   "outputs": [
    {
     "data": {
      "text/plain": [
       "{'prob_segs': '/mnt/d/data/fitzpatrick17k/evaluate/synth_221-m-u_indoor/prob_segs',\n",
       " 'pred_segs': '/mnt/d/data/fitzpatrick17k/evaluate/synth_221-m-u_indoor/pred_segs',\n",
       " 'pred_anatomy': '/mnt/d/data/fitzpatrick17k/evaluate/synth_221-m-u_indoor/pred_anatomy',\n",
       " 'images': '/mnt/d/data/fitzpatrick17k/evaluate/synth_221-m-u_indoor/images',\n",
       " 'targets': '/mnt/d/data/fitzpatrick17k/evaluate/synth_221-m-u_indoor/targets'}"
      ]
     },
     "execution_count": 30,
     "metadata": {},
     "output_type": "execute_result"
    }
   ],
   "source": [
    "fitz_paths"
   ]
  },
  {
   "cell_type": "code",
   "execution_count": 31,
   "metadata": {},
   "outputs": [
    {
     "data": {
      "application/vnd.jupyter.widget-view+json": {
       "model_id": "034e01a7d9484357b2a00a0cc8af97c2",
       "version_major": 2,
       "version_minor": 0
      },
      "text/plain": [
       "  0%|          | 0/25 [00:00<?, ?it/s]"
      ]
     },
     "metadata": {},
     "output_type": "display_data"
    }
   ],
   "source": [
    "fitz_test = inference_multitask(\n",
    "    max_imgs=len(fitz_test_dataloader),\n",
    "    model=multitask_model,\n",
    "    dataloader=fitz_test_dataloader,\n",
    "    device=device,\n",
    "    save_to_disk=True,\n",
    "    return_values=True,\n",
    "    dir_anatomy_preds=fitz_paths[\"pred_anatomy\"],\n",
    "    dir_save_images=fitz_paths[\"images\"],\n",
    "    dir_save_targets=fitz_paths[\"targets\"],\n",
    "    dir_save_skin_preds=fitz_paths[\"pred_segs\"],\n",
    "    dir_save_skin_probs=fitz_paths[\"prob_segs\"],\n",
    ")"
   ]
  },
  {
   "cell_type": "code",
   "execution_count": 32,
   "metadata": {},
   "outputs": [
    {
     "name": "stdout",
     "output_type": "stream",
     "text": [
      "0.51 \\pm 0.26\n",
      "0.79 \\pm 0.17\n",
      "0.52 \\pm 0.42\n"
     ]
    }
   ],
   "source": [
    "fitz_test_df = pd.DataFrame(\n",
    "    compute_results(fitz_test_ds, fitz_paths[\"pred_segs\"], pred_ext=\".png\")\n",
    ")\n",
    "# Skin condition.\n",
    "print(\n",
    "    \"{:.2f} \\pm {:.2f}\".format(\n",
    "        fitz_test_df.lesion_ji.mean(),\n",
    "        fitz_test_df.lesion_ji.std(),\n",
    "    )\n",
    ")\n",
    "\n",
    "# Skin.\n",
    "print(\n",
    "    \"{:.2f} \\pm {:.2f}\".format(\n",
    "        fitz_test_df.skin_ji.mean(),\n",
    "        fitz_test_df.skin_ji.std(),\n",
    "    )\n",
    ")\n",
    "\n",
    "# Nonskin.\n",
    "print(\n",
    "    \"{:.2f} \\pm {:.2f}\".format(\n",
    "        fitz_test_df.nonskin_ji.mean(),\n",
    "        fitz_test_df.nonskin_ji.std(),\n",
    "    )\n",
    ")"
   ]
  },
  {
   "cell_type": "code",
   "execution_count": 33,
   "metadata": {},
   "outputs": [],
   "source": [
    "def binary_conf_mat(pred, gt):\n",
    "    tp = np.sum((pred == True) & (gt == True))\n",
    "    fp = np.sum((pred == True) & (gt == False))\n",
    "    tn = np.sum((pred == False) & (gt == False))\n",
    "    fn = np.sum((pred == False) & (gt == True))\n",
    "\n",
    "    return tp, fp, tn, fn"
   ]
  },
  {
   "cell_type": "code",
   "execution_count": 34,
   "metadata": {},
   "outputs": [],
   "source": [
    "from multiprocessing.sharedctypes import Value\n",
    "from dermsynth3d.utils.image import load_image\n",
    "from dermsynth3d.utils.evaluate import argmax_predictions\n",
    "\n",
    "ds = fitz_test_ds\n",
    "dir_pred_probs = fitz_paths[\"prob_segs\"]\n",
    "lesion_res = {\"tp\": 0, \"fp\": 0, \"tn\": 0, \"fn\": 0}\n",
    "skin_res = lesion_res.copy()\n",
    "back_res = lesion_res.copy()\n",
    "\n",
    "\n",
    "for image_id in ds.file_ids:\n",
    "    gt = np.asarray(ds.target(image_id)).astype(bool)\n",
    "    prob_filename = os.path.join(dir_pred_probs, image_id + \".png\")\n",
    "    pred = np.asarray(load_image(prob_filename))\n",
    "    # pred_seg = np.asarray(ds.prediction(image_id))\n",
    "    pred = argmax_predictions(pred)\n",
    "\n",
    "    for idx in range(3):\n",
    "        tp, fp, tn, fn = binary_conf_mat(pred[:, :, idx], gt[:, :, idx])\n",
    "        if idx == 0:\n",
    "            res = lesion_res\n",
    "        elif idx == 1:\n",
    "            res = skin_res\n",
    "        elif idx == 2:\n",
    "            res = back_res\n",
    "        else:\n",
    "            raise ValueError(\"Error: outside of expected range\")\n",
    "\n",
    "        res[\"tp\"] += tp\n",
    "        res[\"fp\"] += fp\n",
    "        res[\"tn\"] += tn\n",
    "        res[\"fn\"] += fn"
   ]
  },
  {
   "cell_type": "code",
   "execution_count": 35,
   "metadata": {},
   "outputs": [
    {
     "name": "stdout",
     "output_type": "stream",
     "text": [
      "0.48 \n",
      "0.83 \n",
      "0.87 \n"
     ]
    }
   ],
   "source": [
    "# Single mesh model.\n",
    "for res in [lesion_res, skin_res, back_res]:\n",
    "    print(\"{:.2f} \".format(res[\"tp\"] / (res[\"tp\"] + res[\"fp\"] + res[\"fn\"])))"
   ]
  },
  {
   "cell_type": "code",
   "execution_count": 114,
   "metadata": {},
   "outputs": [
    {
     "name": "stdout",
     "output_type": "stream",
     "text": [
      "0.57 \n",
      "0.88 \n",
      "0.86 \n"
     ]
    }
   ],
   "source": [
    "# 960 model.\n",
    "for res in [lesion_res, skin_res, back_res]:\n",
    "    print(\"{:.2f} \".format(res[\"tp\"] / (res[\"tp\"] + res[\"fp\"] + res[\"fn\"])))"
   ]
  },
  {
   "cell_type": "code",
   "execution_count": 17,
   "metadata": {},
   "outputs": [
    {
     "name": "stdout",
     "output_type": "stream",
     "text": [
      "0.55 \n",
      "0.89 \n",
      "0.89 \n"
     ]
    }
   ],
   "source": [
    "# Full paper model\n",
    "for res in [lesion_res, skin_res, back_res]:\n",
    "    print(\"{:.2f} \".format(res[\"tp\"] / (res[\"tp\"] + res[\"fp\"] + res[\"fn\"])))"
   ]
  },
  {
   "cell_type": "code",
   "execution_count": 94,
   "metadata": {},
   "outputs": [
    {
     "data": {
      "text/plain": [
       "0.7803022936721442"
      ]
     },
     "execution_count": 94,
     "metadata": {},
     "output_type": "execute_result"
    }
   ],
   "source": [
    "tp / (tp + fp + fn)"
   ]
  },
  {
   "cell_type": "code",
   "execution_count": 95,
   "metadata": {},
   "outputs": [
    {
     "data": {
      "text/plain": [
       "0.7803022936721442"
      ]
     },
     "execution_count": 95,
     "metadata": {},
     "output_type": "execute_result"
    }
   ],
   "source": [
    "np.sum(pred[:, :, idx] & gt[:, :, idx]) / np.sum(pred[:, :, idx] | gt[:, :, idx])"
   ]
  },
  {
   "cell_type": "code",
   "execution_count": 32,
   "metadata": {},
   "outputs": [
    {
     "data": {
      "text/plain": [
       "dtype('bool')"
      ]
     },
     "execution_count": 32,
     "metadata": {},
     "output_type": "execute_result"
    }
   ],
   "source": [
    "pred_seg.dtype"
   ]
  },
  {
   "cell_type": "code",
   "execution_count": 34,
   "metadata": {},
   "outputs": [
    {
     "data": {
      "text/plain": [
       "<matplotlib.image.AxesImage at 0x7f8f644249d0>"
      ]
     },
     "execution_count": 34,
     "metadata": {},
     "output_type": "execute_result"
    },
    {
     "data": {
      "image/png": "[encoded data removed]",
      "text/plain": [
       "<Figure size 432x288 with 1 Axes>"
      ]
     },
     "metadata": {
      "needs_background": "light"
     },
     "output_type": "display_data"
    }
   ],
   "source": [
    "plt.imshow(pred_seg * 255)"
   ]
  },
  {
   "cell_type": "markdown",
   "metadata": {},
   "source": [
    "<h2>PH2 results</h2>\n",
    "\n",
    "https://www.fc.up.pt/addi/ph2%20database.html\n",
    "\n",
    "Update `dir_images` to your path to the images."
   ]
  },
  {
   "cell_type": "code",
   "execution_count": 16,
   "metadata": {},
   "outputs": [
    {
     "name": "stdout",
     "output_type": "stream",
     "text": [
      "200\n"
     ]
    }
   ],
   "source": [
    "resize_aspect_longest = A.augmentations.geometric.resize.LongestMaxSize(\n",
    "    max_size=img_size[0], always_apply=True\n",
    ")\n",
    "\n",
    "ph2_img_augment = A.Compose(\n",
    "    [\n",
    "        A.GaussianBlur(blur_limit=(9, 9), always_apply=True),\n",
    "    ]\n",
    ")\n",
    "\n",
    "ph2_ds = Ph2Dataset(\n",
    "    dir_images=\"/mnt/d/data/PH2Dataset/PH2Dataset/PH2 Dataset images\",\n",
    "    dir_targets=\"/mnt/d/data/PH2Dataset/PH2Dataset/PH2 Dataset images\",\n",
    "    name=\"ph2\",\n",
    "    image_extension=\".bmp\",\n",
    "    target_extension=\".bmp\",\n",
    "    image_augment=ph2_img_augment,\n",
    "    spatial_transform=resize_aspect_longest,\n",
    "    image_preprocess=img_preprocess,\n",
    "    totensor=ToTensorV2(transpose_mask=True),\n",
    "    color_constancy=shade_of_gray_cc,\n",
    ")\n",
    "print(len(ph2_ds))\n",
    "ph2_dataloader = DataLoader(ph2_ds, batch_size=1, shuffle=False)"
   ]
  },
  {
   "cell_type": "code",
   "execution_count": 17,
   "metadata": {},
   "outputs": [
    {
     "data": {
      "application/vnd.jupyter.widget-view+json": {
       "model_id": "a22c61ae61ac42288154a6d17379d6e6",
       "version_major": 2,
       "version_minor": 0
      },
      "text/plain": [
       "  0%|          | 0/200 [00:00<?, ?it/s]"
      ]
     },
     "metadata": {},
     "output_type": "display_data"
    }
   ],
   "source": [
    "dir_skin_preds_ph2_test = \"/mnt/d/predictions/ph2/figs/skin\"\n",
    "ph2_preds = inference_multitask(\n",
    "    max_imgs=len(ph2_dataloader),\n",
    "    model=multitask_model,\n",
    "    dataloader=ph2_dataloader,\n",
    "    device=device,\n",
    "    save_to_disk=True,\n",
    "    return_values=False,\n",
    "    dir_save_images=\"/mnt/d/predictions/ph2/figs/images\",\n",
    "    dir_save_targets=\"/mnt/d/predictions/ph2/figs/targets\",\n",
    "    dir_save_skin_preds=dir_skin_preds_ph2_test,\n",
    ")"
   ]
  },
  {
   "cell_type": "code",
   "execution_count": 18,
   "metadata": {},
   "outputs": [
    {
     "name": "stdout",
     "output_type": "stream",
     "text": [
      "0.56 \\pm 0.20\n"
     ]
    }
   ],
   "source": [
    "ph2_test_df = pd.DataFrame(\n",
    "    compute_results(ph2_ds, dir_skin_preds_ph2_test, pred_ext=\".bmp\")\n",
    ")\n",
    "# Skin condition.\n",
    "print(\n",
    "    \"{:.2f} \\pm {:.2f}\".format(\n",
    "        ph2_test_df.lesion_ji.mean(),\n",
    "        ph2_test_df.lesion_ji.std(),\n",
    "    )\n",
    ")"
   ]
  },
  {
   "cell_type": "markdown",
   "metadata": {},
   "source": [
    "<h2>Dermofit results</h2>\n",
    "\n",
    "https://licensing.edinburgh-innovations.ed.ac.uk/product/dermofit-image-library\n",
    "\n",
    "Requires a license and a fee.\n",
    "\n",
    "Update `dir_images` and `dir_targets` to your paths."
   ]
  },
  {
   "cell_type": "code",
   "execution_count": 19,
   "metadata": {},
   "outputs": [
    {
     "name": "stdout",
     "output_type": "stream",
     "text": [
      "1300\n"
     ]
    }
   ],
   "source": [
    "dermofit_img_augment = A.Compose(\n",
    "    [\n",
    "        A.GaussianBlur(blur_limit=(3, 3), always_apply=True),\n",
    "    ]\n",
    ")\n",
    "dermofit_ds = ImageDataset(\n",
    "    dir_images=\"/mnt/d/data/DermoFit_Segmentation/images\",\n",
    "    dir_targets=\"/mnt/d/data/DermoFit_Segmentation/targets\",\n",
    "    # dir_predictions='/mnt/d/data/DermoFit_Segmentation/predictions',\n",
    "    name=\"dermofit\",\n",
    "    image_extension=\".png\",\n",
    "    target_extension=\".png\",\n",
    "    image_augment=None,  # dermofit_img_augment,#dermofit_img_augment,\n",
    "    spatial_transform=resize_aspect_smallest,  # resize_aspect_longest, #resize_aspect_smallest, #spatial_augment,\n",
    "    image_preprocess=img_preprocess,\n",
    "    totensor=ToTensorV2(transpose_mask=True),\n",
    "    color_constancy=shade_of_gray_cc,\n",
    ")\n",
    "print(len(dermofit_ds))\n",
    "dermofit_dataloader = DataLoader(dermofit_ds, batch_size=1, shuffle=False)"
   ]
  },
  {
   "cell_type": "code",
   "execution_count": 20,
   "metadata": {},
   "outputs": [
    {
     "data": {
      "application/vnd.jupyter.widget-view+json": {
       "model_id": "c40d4db3dd44479cb3dbdf7ba68e7393",
       "version_major": 2,
       "version_minor": 0
      },
      "text/plain": [
       "  0%|          | 0/1300 [00:00<?, ?it/s]"
      ]
     },
     "metadata": {},
     "output_type": "display_data"
    }
   ],
   "source": [
    "dir_skin_preds_dermofit = \"/mnt/d/data/DermoFit_Segmentation/predictions\"\n",
    "dermofit_preds = inference_multitask(\n",
    "    max_imgs=len(dermofit_dataloader),\n",
    "    model=multitask_model,\n",
    "    dataloader=dermofit_dataloader,\n",
    "    device=device,\n",
    "    save_to_disk=True,\n",
    "    return_values=False,\n",
    "    dir_save_skin_preds=dir_skin_preds_dermofit,\n",
    ")"
   ]
  },
  {
   "cell_type": "code",
   "execution_count": 21,
   "metadata": {},
   "outputs": [
    {
     "name": "stdout",
     "output_type": "stream",
     "text": [
      "0.58 \\pm 0.22\n"
     ]
    }
   ],
   "source": [
    "dermofit_df = pd.DataFrame(\n",
    "    compute_results(dermofit_ds, dir_skin_preds_dermofit, pred_ext=\".png\")\n",
    ")\n",
    "# Skin condition.\n",
    "print(\n",
    "    \"{:.2f} \\pm {:.2f}\".format(\n",
    "        dermofit_df.lesion_ji.mean(),\n",
    "        dermofit_df.lesion_ji.std(),\n",
    "    )\n",
    ")"
   ]
  },
  {
   "cell_type": "markdown",
   "metadata": {},
   "source": [
    "<h2>Pratheepan results on FacePhoto</h2>\n",
    "\n",
    "Data from:\n",
    "https://web.fsktm.um.edu.my/~cschan/downloads_skin_dataset.html\n",
    "\n",
    "Update `dir_images` and `dir_targets` to your data paths to the images and skin masks."
   ]
  },
  {
   "cell_type": "code",
   "execution_count": 22,
   "metadata": {},
   "outputs": [],
   "source": [
    "pratheepan_ds = ImageDataset(\n",
    "    dir_images=\"/mnt/d/data/Face_Dataset/Pratheepan_Dataset/FacePhoto\",\n",
    "    dir_targets=\"/mnt/d/data/Face_Dataset/Ground_Truth/GroundT_FacePhoto\",\n",
    "    name=\"pratheepan\",\n",
    "    image_extension=\".jpg\",\n",
    "    target_extension=\".png\",\n",
    "    image_augment=None,\n",
    "    spatial_transform=resize_aspect_smallest,\n",
    "    image_preprocess=img_preprocess,\n",
    "    totensor=ToTensorV2(transpose_mask=True),\n",
    "    color_constancy=shade_of_gray_cc,\n",
    ")"
   ]
  },
  {
   "cell_type": "code",
   "execution_count": 23,
   "metadata": {},
   "outputs": [
    {
     "data": {
      "application/vnd.jupyter.widget-view+json": {
       "model_id": "00cfc0b24217430a9d84240cfc11efd3",
       "version_major": 2,
       "version_minor": 0
      },
      "text/plain": [
       "  0%|          | 0/32 [00:00<?, ?it/s]"
      ]
     },
     "metadata": {},
     "output_type": "display_data"
    }
   ],
   "source": [
    "dir_skin_preds_pratheepan = (\n",
    "    \"/mnt/d/data/Face_Dataset/Pratheepan_Dataset/predictions/FacePhoto/skin\"\n",
    ")\n",
    "pratheepan_dataloader = DataLoader(pratheepan_ds, batch_size=1, shuffle=False)\n",
    "pratheepan_preds = inference_multitask(\n",
    "    max_imgs=len(pratheepan_ds),\n",
    "    model=multitask_model,\n",
    "    dataloader=pratheepan_dataloader,\n",
    "    device=device,\n",
    "    save_to_disk=True,\n",
    "    return_values=False,\n",
    "    dir_anatomy_preds=\"/mnt/d/data/Face_Dataset/Pratheepan_Dataset/predictions/FacePhoto/anatomy\",\n",
    "    dir_save_skin_preds=dir_skin_preds_pratheepan,\n",
    ")"
   ]
  },
  {
   "cell_type": "code",
   "execution_count": 24,
   "metadata": {},
   "outputs": [
    {
     "name": "stdout",
     "output_type": "stream",
     "text": [
      "0.77 \\pm 0.14\n"
     ]
    }
   ],
   "source": [
    "pratheepan_df = pd.DataFrame(\n",
    "    compute_results(pratheepan_ds, dir_skin_preds_pratheepan, pred_ext=\".png\")\n",
    ")\n",
    "# Skin condition.\n",
    "print(\n",
    "    \"{:.2f} \\pm {:.2f}\".format(\n",
    "        pratheepan_df.skin_ji.mean(),\n",
    "        pratheepan_df.skin_ji.std(),\n",
    "    )\n",
    ")"
   ]
  },
  {
   "cell_type": "code",
   "execution_count": 27,
   "metadata": {},
   "outputs": [],
   "source": [
    "res = conf_mat_cells(pratheepan_ds, dir_skin_preds_pratheepan, \".png\")\n",
    "tps = res[\"tps\"]\n",
    "fps = res[\"fps\"]\n",
    "fns = res[\"fns\"]"
   ]
  },
  {
   "cell_type": "code",
   "execution_count": 28,
   "metadata": {},
   "outputs": [
    {
     "data": {
      "text/plain": [
       "0.8578159369564877"
      ]
     },
     "execution_count": 28,
     "metadata": {},
     "output_type": "execute_result"
    }
   ],
   "source": [
    "f1 = (2 * np.sum(tps)) / ((2 * np.sum(tps)) + np.sum(fps) + np.sum(fns))\n",
    "f1"
   ]
  },
  {
   "cell_type": "code",
   "execution_count": null,
   "metadata": {},
   "outputs": [],
   "source": [
    "`   `"
   ]
  }
 ],
 "metadata": {
  "interpreter": {
   "hash": "6448a6cebda3065c9193e50ff51184523b72f29008470b17ce3f21a1918c09fd"
  },
  "kernelspec": {
   "display_name": "Python 3.8.12 ('pytorch3dv2')",
   "language": "python",
   "name": "python3"
  },
  "language_info": {
   "codemirror_mode": {
    "name": "ipython",
    "version": 3
   },
   "file_extension": ".py",
   "mimetype": "text/x-python",
   "name": "python",
   "nbconvert_exporter": "python",
   "pygments_lexer": "ipython3",
   "version": "3.8.12"
  },
  "orig_nbformat": 4
 },
 "nbformat": 4,
 "nbformat_minor": 2
}
